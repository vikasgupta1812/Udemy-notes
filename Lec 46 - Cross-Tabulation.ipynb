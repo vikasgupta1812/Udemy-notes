{
  "nbformat": 4,
  "nbformat_minor": 0,
  "metadata": {
    "colab": {
      "name": "Lec%2046%20-%20Cross-Tabulation.ipynb",
      "version": "0.3.2",
      "provenance": []
    }
  },
  "cells": [
    {
      "cell_type": "markdown",
      "metadata": {
        "id": "view-in-github",
        "colab_type": "text"
      },
      "source": [
        "[View in Colaboratory](https://colab.research.google.com/github/vikasgupta1812/Udemy-notes/blob/master/Lec%2046%20-%20Cross-Tabulation.ipynb)"
      ]
    },
    {
      "metadata": {
        "id": "wmzJGnE3w5up",
        "colab_type": "code",
        "colab": {
          "base_uri": "https://localhost:8080/",
          "height": 17
        },
        "outputId": "ffb293cf-a6a5-4f9e-ca73-f2330a1d23ab"
      },
      "cell_type": "code",
      "source": [
        "import pandas as pd\n",
        "\n",
        "# THis will be a quick lesson on cross-tabulations, which are basically a special case of pivot-tables"
      ],
      "execution_count": 1,
      "outputs": []
    },
    {
      "metadata": {
        "id": "a5Ct7C8mw5uz",
        "colab_type": "code",
        "colab": {
          "base_uri": "https://localhost:8080/",
          "height": 17
        },
        "outputId": "c12ce795-b70c-472f-c4f4-668c391b173e"
      },
      "cell_type": "code",
      "source": [
        "# Let's create a quick data set\n",
        "from StringIO import StringIO\n",
        "\n",
        "data =\"\"\"\\\n",
        "Sample   Animal   Intelligence\n",
        "1        Dog     Smart\n",
        "2 Dog Smart\n",
        "3 Cat Dumb\n",
        "4 Cat Dumb\n",
        "5 Dog Dumb\n",
        "6 Cat Smart\"\"\"\n",
        "\n",
        "#Store as dframe\n",
        "dframe = pd.read_table(StringIO(data),sep='\\s+')"
      ],
      "execution_count": 2,
      "outputs": []
    },
    {
      "metadata": {
        "id": "qynFyTcjw5u5",
        "colab_type": "code",
        "colab": {
          "base_uri": "https://localhost:8080/",
          "height": 235
        },
        "outputId": "ff8f74ec-be6d-4e65-820f-5ca618584fce"
      },
      "cell_type": "code",
      "source": [
        "# Show\n",
        "dframe"
      ],
      "execution_count": 3,
      "outputs": [
        {
          "output_type": "execute_result",
          "data": {
            "text/html": [
              "<div>\n",
              "<style scoped>\n",
              "    .dataframe tbody tr th:only-of-type {\n",
              "        vertical-align: middle;\n",
              "    }\n",
              "\n",
              "    .dataframe tbody tr th {\n",
              "        vertical-align: top;\n",
              "    }\n",
              "\n",
              "    .dataframe thead th {\n",
              "        text-align: right;\n",
              "    }\n",
              "</style>\n",
              "<table border=\"1\" class=\"dataframe\">\n",
              "  <thead>\n",
              "    <tr style=\"text-align: right;\">\n",
              "      <th></th>\n",
              "      <th>Sample</th>\n",
              "      <th>Animal</th>\n",
              "      <th>Intelligence</th>\n",
              "    </tr>\n",
              "  </thead>\n",
              "  <tbody>\n",
              "    <tr>\n",
              "      <th>0</th>\n",
              "      <td>1</td>\n",
              "      <td>Dog</td>\n",
              "      <td>Smart</td>\n",
              "    </tr>\n",
              "    <tr>\n",
              "      <th>1</th>\n",
              "      <td>2</td>\n",
              "      <td>Dog</td>\n",
              "      <td>Smart</td>\n",
              "    </tr>\n",
              "    <tr>\n",
              "      <th>2</th>\n",
              "      <td>3</td>\n",
              "      <td>Cat</td>\n",
              "      <td>Dumb</td>\n",
              "    </tr>\n",
              "    <tr>\n",
              "      <th>3</th>\n",
              "      <td>4</td>\n",
              "      <td>Cat</td>\n",
              "      <td>Dumb</td>\n",
              "    </tr>\n",
              "    <tr>\n",
              "      <th>4</th>\n",
              "      <td>5</td>\n",
              "      <td>Dog</td>\n",
              "      <td>Dumb</td>\n",
              "    </tr>\n",
              "    <tr>\n",
              "      <th>5</th>\n",
              "      <td>6</td>\n",
              "      <td>Cat</td>\n",
              "      <td>Smart</td>\n",
              "    </tr>\n",
              "  </tbody>\n",
              "</table>\n",
              "</div>"
            ],
            "text/plain": [
              "   Sample Animal Intelligence\n",
              "0       1    Dog        Smart\n",
              "1       2    Dog        Smart\n",
              "2       3    Cat         Dumb\n",
              "3       4    Cat         Dumb\n",
              "4       5    Dog         Dumb\n",
              "5       6    Cat        Smart"
            ]
          },
          "metadata": {
            "tags": []
          },
          "execution_count": 3
        }
      ]
    },
    {
      "metadata": {
        "id": "28I6A-Sfw5vE",
        "colab_type": "code",
        "colab": {
          "base_uri": "https://localhost:8080/",
          "height": 173
        },
        "outputId": "3f9741c5-65b3-4b41-89d9-b839beb05ffc"
      },
      "cell_type": "code",
      "source": [
        "# Now we can create a cross-tabulation table, which is basically just a frequency table\n",
        "pd.crosstab(dframe.Animal,dframe.Intelligence,margins=True)"
      ],
      "execution_count": 4,
      "outputs": [
        {
          "output_type": "execute_result",
          "data": {
            "text/html": [
              "<div>\n",
              "<style scoped>\n",
              "    .dataframe tbody tr th:only-of-type {\n",
              "        vertical-align: middle;\n",
              "    }\n",
              "\n",
              "    .dataframe tbody tr th {\n",
              "        vertical-align: top;\n",
              "    }\n",
              "\n",
              "    .dataframe thead th {\n",
              "        text-align: right;\n",
              "    }\n",
              "</style>\n",
              "<table border=\"1\" class=\"dataframe\">\n",
              "  <thead>\n",
              "    <tr style=\"text-align: right;\">\n",
              "      <th>Intelligence</th>\n",
              "      <th>Dumb</th>\n",
              "      <th>Smart</th>\n",
              "      <th>All</th>\n",
              "    </tr>\n",
              "    <tr>\n",
              "      <th>Animal</th>\n",
              "      <th></th>\n",
              "      <th></th>\n",
              "      <th></th>\n",
              "    </tr>\n",
              "  </thead>\n",
              "  <tbody>\n",
              "    <tr>\n",
              "      <th>Cat</th>\n",
              "      <td>2</td>\n",
              "      <td>1</td>\n",
              "      <td>3</td>\n",
              "    </tr>\n",
              "    <tr>\n",
              "      <th>Dog</th>\n",
              "      <td>1</td>\n",
              "      <td>2</td>\n",
              "      <td>3</td>\n",
              "    </tr>\n",
              "    <tr>\n",
              "      <th>All</th>\n",
              "      <td>3</td>\n",
              "      <td>3</td>\n",
              "      <td>6</td>\n",
              "    </tr>\n",
              "  </tbody>\n",
              "</table>\n",
              "</div>"
            ],
            "text/plain": [
              "Intelligence  Dumb  Smart  All\n",
              "Animal                        \n",
              "Cat              2      1    3\n",
              "Dog              1      2    3\n",
              "All              3      3    6"
            ]
          },
          "metadata": {
            "tags": []
          },
          "execution_count": 4
        }
      ]
    },
    {
      "metadata": {
        "id": "O_a9Ol9Dw5vM",
        "colab_type": "code",
        "colab": {}
      },
      "cell_type": "code",
      "source": [
        "# And thats about it as far as it's general use.\n",
        "# We'll use it in examples in the final projects!"
      ],
      "execution_count": 0,
      "outputs": []
    },
    {
      "metadata": {
        "id": "m7mpXFZ4w5vR",
        "colab_type": "code",
        "colab": {}
      },
      "cell_type": "code",
      "source": [
        ""
      ],
      "execution_count": 0,
      "outputs": []
    }
  ]
}